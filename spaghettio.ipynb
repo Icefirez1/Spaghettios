{
 "cells": [
  {
   "cell_type": "markdown",
   "metadata": {},
   "source": [
    "Welcome to can per file! Add the path of the txt file for any type of media and it will count how many cans of spaghettios you need to exactly replicate the text! Enjoyyyyy"
   ]
  },
  {
   "cell_type": "code",
   "execution_count": 10,
   "metadata": {},
   "outputs": [
    {
     "name": "stdout",
     "output_type": "stream",
     "text": [
      "The number of spaghettio cans needed to do this file is 730 can(s)\n",
      "Cost needed to buy cans: $1014.7\n",
      "Num of leftover spaghettios: 660936\n"
     ]
    }
   ],
   "source": [
    "import can_per_file\n",
    "path = r'C:\\Users\\alpag\\OneDrive\\Documents\\Al\\Coding\\Projects\\spaghetti\\taylor.txt'\n",
    "can_per_file.num_of_cans(path)"
   ]
  }
 ],
 "metadata": {
  "kernelspec": {
   "display_name": "Python 3.9.13 64-bit (microsoft store)",
   "language": "python",
   "name": "python3"
  },
  "language_info": {
   "codemirror_mode": {
    "name": "ipython",
    "version": 3
   },
   "file_extension": ".py",
   "mimetype": "text/x-python",
   "name": "python",
   "nbconvert_exporter": "python",
   "pygments_lexer": "ipython3",
   "version": "3.9.13"
  },
  "orig_nbformat": 4,
  "vscode": {
   "interpreter": {
    "hash": "167f38343f0902dfcae3eac2cdb778d1d7a5e8ec432aebc7ba03e25114a1bf61"
   }
  }
 },
 "nbformat": 4,
 "nbformat_minor": 2
}
